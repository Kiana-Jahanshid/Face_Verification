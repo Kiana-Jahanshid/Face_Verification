{
 "cells": [
  {
   "cell_type": "code",
   "execution_count": 5,
   "metadata": {},
   "outputs": [],
   "source": [
    "import os\n",
    "import cv2\n",
    "import numpy as np \n",
    "import matplotlib.pyplot as plt \n",
    "from insightface.app import FaceAnalysis"
   ]
  },
  {
   "cell_type": "markdown",
   "metadata": {},
   "source": [
    "# 1_ create Face-Bank"
   ]
  },
  {
   "cell_type": "code",
   "execution_count": null,
   "metadata": {},
   "outputs": [],
   "source": [
    "app = FaceAnalysis(name=\"buffalo_s\" , providers=[\"CPUExecutionProvider\"])\n",
    "app.prepare(ctx_id=0 , det_size=(640,640))"
   ]
  },
  {
   "cell_type": "code",
   "execution_count": null,
   "metadata": {},
   "outputs": [],
   "source": [
    "facebank_path = \"./face_bank/\"\n",
    "\n",
    "for person in os.listdir(facebank_path):\n",
    "    print(person)\n",
    "    for image in os.listdir(facebank_path+person) :\n",
    "        print(image)\n"
   ]
  },
  {
   "cell_type": "code",
   "execution_count": null,
   "metadata": {},
   "outputs": [],
   "source": [
    "facebank_path = \"./face_bank/\"\n",
    "face_bank_embeddings = []\n",
    "'''''\n",
    "face_bank = [\n",
    "    {\"name\" : \"javad\" , \"embedding\": [1,3,6,1,6,9,4,5,0]},\n",
    "    {\"name\" : \"javad\" , \"embedding\": [5,3,8,1,0,6,2,8,3]},\n",
    "    {\"name\" : \"sajad\" , \"embedding\": [9,4,0,6,1,8,0,1,5]},\n",
    "    {\"name\" : \"sajad\" , \"embedding\": [1,5,0,3,8,2,9,3,2]},\n",
    "    ...\n",
    "]\n",
    "'''''\n",
    "for person_folder_name in os.listdir(facebank_path):\n",
    "\n",
    "    folder_path = os.path.join(facebank_path , person_folder_name)\n",
    "    print(folder_path)\n",
    "    if os.path.isdir(folder_path): # if it was a folder \n",
    "        for image_name in os.listdir(folder_path):\n",
    "            image_path = os.path.join(folder_path , image_name)# complete path\n",
    "            print(image_path)\n",
    "            #print(image_name)\n",
    "\n",
    "            image = cv2.imread(image_path)\n",
    "            #image = cv2.cvtColor(image , cv2.COLOR_BGR2RGB)\n",
    "            result = app.get(image) # it's a list of persons in an image \n",
    "            # WE SHOULD USE IMAGES WITH ONLY ONE PERSON\n",
    "            # BC WE DONT KNOW WHO result[0] or result[1] or ... ARE \n",
    "            if len(result) > 1 : # it means that if more than one person exists in this image\n",
    "                print(\"warning :  more than one face detected in image \")\n",
    "                continue # ignore images with more than one person\n",
    "\n",
    "            # now we are sure that only one face existed\n",
    "\n",
    "            embedding = result[0][\"embedding\"] #an array of length 512 \n",
    "            # now we want to store all these embeddings  \n",
    "            my_dict = {\"name\": person_folder_name , \"embedding\":embedding}\n",
    "            face_bank_embeddings.append(my_dict)\n",
    "\n",
    "print(face_bank_embeddings)\n",
    "np.save(\"face_bank.npy\" , face_bank_embeddings)"
   ]
  },
  {
   "cell_type": "markdown",
   "metadata": {},
   "source": [
    "now we dont have any problem with new people in dataset \n",
    "we just need to create new person's folder \n",
    "we dont need to train "
   ]
  }
 ],
 "metadata": {
  "kernelspec": {
   "display_name": "Python 3",
   "language": "python",
   "name": "python3"
  },
  "language_info": {
   "codemirror_mode": {
    "name": "ipython",
    "version": 3
   },
   "file_extension": ".py",
   "mimetype": "text/x-python",
   "name": "python",
   "nbconvert_exporter": "python",
   "pygments_lexer": "ipython3",
   "version": "3.10.1"
  }
 },
 "nbformat": 4,
 "nbformat_minor": 2
}
